{
 "cells": [
  {
   "cell_type": "markdown",
   "id": "dda58bc2-1a77-4561-887f-af28417e4304",
   "metadata": {},
   "source": [
    "# BASIC PYTHON CONCEPTS"
   ]
  },
  {
   "cell_type": "code",
   "execution_count": null,
   "id": "f01aca0e-a865-4c1d-a84a-1763877cd662",
   "metadata": {},
   "outputs": [],
   "source": [
    " # Loops\n",
    " for i in range(5):\n",
    "    print(i)\n",
    " # If-else\n",
    " if x > 10:\n",
    "    print(\"High\")\n",
    " else:\n",
    "    print(\"Low\")\n",
    " # Function\n",
    " def greet(name):\n",
    "    return f\"Hello, {name}\""
   ]
  },
  {
   "cell_type": "markdown",
   "id": "83f26fe8-096a-4c0d-898f-e7639b8492b6",
   "metadata": {},
   "source": [
    " # PANDAS DATA WRANGLING"
   ]
  },
  {
   "cell_type": "code",
   "execution_count": null,
   "id": "71c9a069-a50c-431c-aa8a-3fdf4840f2d6",
   "metadata": {},
   "outputs": [],
   "source": [
    " import pandas as pd\n",
    " # Read file\n",
    " df = pd.read_csv('data.csv')\n",
    " # Quick look\n",
    " df.head()\n",
    " df.info()\n",
    " # Filter rows\n",
    " df[df['column'] == 'value']\n",
    " # Select columns\n",
    " df[['col1', 'col2']]\n",
    " # Create new column\n",
    " df['new_col'] = df['old_col'] * 10\n",
    " # Group by\n",
    " df.groupby('group_col')['value_col'].mean()\n",
    " # Merge\n",
    " merged = pd.merge(df1, df2, on='id', how='inner')\n",
    " # Handle missing\n",
    " df.dropna()  # or df.fillna(0)"
   ]
  },
  {
   "cell_type": "markdown",
   "id": "b259bed2-7fa7-4c90-b565-1e149669bf9a",
   "metadata": {},
   "source": [
    "# NUMPY BASICS"
   ]
  },
  {
   "cell_type": "code",
   "execution_count": null,
   "id": "384b3e05-46bf-4275-bece-51c19a61f0a6",
   "metadata": {},
   "outputs": [],
   "source": [
    "import numpy as np\n",
    " arr = np.array([1, 2, 3])\n",
    " arr.mean()\n",
    " arr.sum()"
   ]
  },
  {
   "cell_type": "markdown",
   "id": "9f922e56-717d-43e0-86bb-830fe6a5c319",
   "metadata": {},
   "source": [
    "# BASIC VISUALS (Matplotlib & Seaborn)"
   ]
  },
  {
   "cell_type": "code",
   "execution_count": null,
   "id": "eedcb219-c855-4e66-9774-1d64fc21f0ab",
   "metadata": {},
   "outputs": [],
   "source": [
    " import matplotlib.pyplot as plt\n",
    " import seaborn as sns\n",
    " # Line plot\n",
    " plt.plot([1, 2, 3], [4, 5, 6])\n",
    " plt.show()\n",
    " # Histogram\n",
    " sns.histplot(df['column'])\n",
    " # Bar plot\n",
    " sns.barplot(x='category', y='value', data=df)"
   ]
  },
  {
   "cell_type": "markdown",
   "id": "805479bd-74a1-4e57-9e51-337ffca10eaf",
   "metadata": {},
   "source": [
    " # SQL IN PYTHON"
   ]
  },
  {
   "cell_type": "code",
   "execution_count": null,
   "id": "5b96f583-077c-42f1-9b8d-c4080ee8ba99",
   "metadata": {},
   "outputs": [],
   "source": [
    " import sqlite3\n",
    " conn = sqlite3.connect('my_db.db')\n",
    " query = \"SELECT * FROM table_name WHERE column > 10\"\n",
    " df = pd.read_sql(query, conn)"
   ]
  },
  {
   "cell_type": "markdown",
   "id": "cb9fc199-d6b7-4772-bd2d-7302d42f8b31",
   "metadata": {},
   "source": [
    " # AB TESTING SNIPPETS"
   ]
  },
  {
   "cell_type": "code",
   "execution_count": null,
   "id": "e10140aa-baf7-415e-8aae-1feecb4c4375",
   "metadata": {},
   "outputs": [],
   "source": [
    "from statsmodels.stats.proportion import proportions_ztest\n",
    " successes = [success_ctrl, success_treat]\n",
    " nobs = [n_ctrl, n_treat]\n",
    " z_stat, pval = proportions_ztest(successes, nobs=nobs)"
   ]
  },
  {
   "cell_type": "markdown",
   "id": "ab137035-96c5-4227-a015-6dd3c85a4016",
   "metadata": {},
   "source": [
    " # STATISTICS BASICS"
   ]
  },
  {
   "cell_type": "code",
   "execution_count": null,
   "id": "2cabaacb-6445-4a96-95bd-bfd42ecc640e",
   "metadata": {},
   "outputs": [],
   "source": [
    " from scipy import stats\n",
    " # T-test\n",
    " stats.ttest_ind(group1, group2)\n",
    "# Chi-square\n",
    " stats.chisquare([obs1, obs2], f_exp=[exp1, exp2])"
   ]
  },
  {
   "cell_type": "markdown",
   "id": "b4f8e147-fc64-45dc-9650-dd96035c776c",
   "metadata": {},
   "source": [
    "#  AUTOMATION / LOOPS"
   ]
  },
  {
   "cell_type": "code",
   "execution_count": null,
   "id": "875ffd30-9c86-4115-99ad-44a0a6f0554f",
   "metadata": {},
   "outputs": [],
   "source": [
    " # Apply function to column\n",
    " df['new_col'] = df['col'].apply(lambda x: x * 2)\n",
    " # For loop over columns\n",
    " for col in df.columns:\n",
    "    print(df[col].mean())"
   ]
  },
  {
   "cell_type": "markdown",
   "id": "f6499ca4-15f3-477d-962f-12d88aa96ce7",
   "metadata": {},
   "source": [
    "# CLEANING + STRINGS"
   ]
  },
  {
   "cell_type": "code",
   "execution_count": null,
   "id": "d23c386a-3cc5-4f99-94b5-042666871d88",
   "metadata": {},
   "outputs": [],
   "source": [
    "# Lowercase column names\n",
    " df.columns = df.columns.str.lower()\n",
    " # Strip whitespaces\n",
    " df['column'] = df['column'].str.strip()"
   ]
  },
  {
   "cell_type": "markdown",
   "id": "b8706bb4-9e83-4974-8d69-891fcf4fb17a",
   "metadata": {},
   "source": [
    "# TO REMEMBER"
   ]
  },
  {
   "cell_type": "code",
   "execution_count": null,
   "id": "ed1d407f-09bd-4070-ae9a-c22712f9dc2e",
   "metadata": {},
   "outputs": [],
   "source": [
    " Task                      | Tool           | Example\n",
    " --------------------------|----------------|------------------------------\n",
    " Data analysis             | pandas         | df.groupby(...)\n",
    " Visualization             | seaborn/matplt | sns.barplot(...)\n",
    " Statistical testing       | statsmodels    | proportions_ztest(...)\n",
    " SQL integration           | sqlite         | pd.read_sql(...)\n",
    " Export to Excel           | pandas         | df.to_excel('file.xlsx')"
   ]
  }
 ],
 "metadata": {
  "kernelspec": {
   "display_name": "Python 3 (ipykernel)",
   "language": "python",
   "name": "python3"
  },
  "language_info": {
   "codemirror_mode": {
    "name": "ipython",
    "version": 3
   },
   "file_extension": ".py",
   "mimetype": "text/x-python",
   "name": "python",
   "nbconvert_exporter": "python",
   "pygments_lexer": "ipython3",
   "version": "3.12.7"
  }
 },
 "nbformat": 4,
 "nbformat_minor": 5
}
